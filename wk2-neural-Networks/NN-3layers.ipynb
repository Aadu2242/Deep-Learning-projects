{
 "cells": [
  {
   "cell_type": "code",
   "execution_count": 7,
   "metadata": {
    "collapsed": true
   },
   "outputs": [],
   "source": [
    "import numpy as np"
   ]
  },
  {
   "cell_type": "code",
   "execution_count": 27,
   "metadata": {
    "collapsed": false
   },
   "outputs": [],
   "source": [
    "class NeuralNetwork():\n",
    "    def __init__(self):\n",
    "        np.random.seed(1)\n",
    "        \n",
    "        # setting the number of nodes \n",
    "        l2 = 5\n",
    "        l3 = 4\n",
    "        \n",
    "        # initialize 3 weights\n",
    "        self.synaptic_weights1 = 2 * np.random.random((3,l2)) - 1\n",
    "        self.synaptic_weights2 = 2 * np.random.random((l2,l3)) - 1\n",
    "        self.synaptic_weights3 = 2 * np.random.random((l3,1)) - 1\n",
    "        \n",
    "        self.activation_function = lambda x: 1 / (1 + np.exp(-x))\n",
    "        self.derivative = lambda x: x * (1-x)\n",
    "        \n",
    "    def train(self, X, y, iterations):\n",
    "        # Convert inputs list to 2d array\n",
    "        #X = np.array(X, ndmin=2)\n",
    "        #y = np.array(y, ndmin=2)\n",
    "        \n",
    "        for iter in range(iterations):\n",
    "            # feed forward\n",
    "            a2 = self.activation_function(np.dot(X, self.synaptic_weights1))\n",
    "            a3 = self.activation_function(np.dot(a2, self.synaptic_weights2))\n",
    "            output = self.activation_function(np.dot(a3, self.synaptic_weights3))\n",
    "            \n",
    "            # error\n",
    "            delta4 = (y - output)*self.derivative(output)\n",
    "            delta3 = np.dot(self.synaptic_weights3,delta4.T)*self.derivative(a3).T\n",
    "            delta2 = np.dot(self.synaptic_weights2,delta3)*self.derivative(a2).T\n",
    "            \n",
    "            # adjustments\n",
    "            adjustment3 = np.dot(a3.T, delta4)\n",
    "            adjustment2 = np.dot(a2.T, delta3.T)\n",
    "            adjustment1 = np.dot(X.T, delta2.T)\n",
    "            \n",
    "            # update weights\n",
    "            self.synaptic_weights1 += adjustment1\n",
    "            self.synaptic_weights2 += adjustment2\n",
    "            self.synaptic_weights3 += adjustment3\n",
    "            \n",
    "    def run(self, X):\n",
    "        # forward pass\n",
    "        a2 = self.activation_function(np.dot(X, self.synaptic_weights1))\n",
    "        a3 = self.activation_function(np.dot(a2, self.synaptic_weights2))\n",
    "        output = self.activation_function(np.dot(a3, self.synaptic_weights3))\n",
    "        \n",
    "        return output\n",
    "            "
   ]
  },
  {
   "cell_type": "code",
   "execution_count": 28,
   "metadata": {
    "collapsed": false
   },
   "outputs": [
    {
     "name": "stdout",
     "output_type": "stream",
     "text": [
      "Random starting synaptic weights (layer 1): \n",
      "[[-0.16595599  0.44064899 -0.99977125 -0.39533485 -0.70648822]\n",
      " [-0.81532281 -0.62747958 -0.30887855 -0.20646505  0.07763347]\n",
      " [-0.16161097  0.370439   -0.5910955   0.75623487 -0.94522481]]\n",
      "Random starting synaptic weights (layer 2): \n",
      "[[ 0.34093502 -0.1653904   0.11737966 -0.71922612]\n",
      " [-0.60379702  0.60148914  0.93652315 -0.37315164]\n",
      " [ 0.38464523  0.7527783   0.78921333 -0.82991158]\n",
      " [-0.92189043 -0.66033916  0.75628501 -0.80330633]\n",
      " [-0.15778475  0.91577906  0.06633057  0.38375423]]\n",
      "Random starting synaptic weights (layer 3): \n",
      "[[-0.36896874]\n",
      " [ 0.37300186]\n",
      " [ 0.66925134]\n",
      " [-0.96342345]]\n",
      "\n",
      "New synaptic weights (layer 1) after training: \n",
      "[[-0.39042717  4.02220543 -1.52322523  2.40451717 -2.77177632]\n",
      " [-0.86817904 -0.33659723 -0.245578   -0.31292608  0.26079733]\n",
      " [-0.00600591 -1.69046817  0.12647375 -0.79367455  1.04614   ]]\n",
      "\n",
      "New synaptic weights (layer 2) after training: \n",
      "[[ 0.9614375  -0.15372521 -0.67703076 -0.00498486]\n",
      " [-2.7714058   0.77362787  2.71638353 -2.4249225 ]\n",
      " [ 1.88550044  0.70717346 -0.71729366  0.7730995 ]\n",
      " [-1.59473372 -0.55756571  1.23221965 -1.28695185]\n",
      " [ 1.92232578  0.86077523 -2.13676866  2.54238247]]\n",
      "\n",
      "New synaptic weights (layer 3) after training: \n",
      "[[-4.392069  ]\n",
      " [ 0.66563256]\n",
      " [ 5.76280212]\n",
      " [-3.88936424]]\n"
     ]
    }
   ],
   "source": [
    "NN = NeuralNetwork()\n",
    "\n",
    "print(\"Random starting synaptic weights (layer 1): \")\n",
    "print(NN.synaptic_weights1)\n",
    "print(\"Random starting synaptic weights (layer 2): \")\n",
    "print(NN.synaptic_weights2)\n",
    "print(\"Random starting synaptic weights (layer 3): \")\n",
    "print(NN.synaptic_weights3)\n",
    "\n",
    "inputs = np.array([[0,0,1],[1,1,1],[1,0,1],[0,1,1]])\n",
    "targets = np.array([[0,1,1,0]]).T\n",
    "\n",
    "NN.train(inputs,targets, 10000)\n",
    "\n",
    "print (\"\\nNew synaptic weights (layer 1) after training: \")\n",
    "print (NN.synaptic_weights1)\n",
    "print (\"\\nNew synaptic weights (layer 2) after training: \")\n",
    "print (NN.synaptic_weights2)\n",
    "print (\"\\nNew synaptic weights (layer 3) after training: \")\n",
    "print (NN.synaptic_weights3)"
   ]
  },
  {
   "cell_type": "code",
   "execution_count": 29,
   "metadata": {
    "collapsed": false
   },
   "outputs": [
    {
     "name": "stdout",
     "output_type": "stream",
     "text": [
      "\n",
      "Predict new value [1,0,0]: \n",
      "[ 0.99650838]\n"
     ]
    }
   ],
   "source": [
    "# test with new input\n",
    "print(\"\\nPredict new value [1,0,0]: \")\n",
    "print(NN.run(np.array([1,0,0])))"
   ]
  }
 ],
 "metadata": {
  "kernelspec": {
   "display_name": "Python 3",
   "language": "python",
   "name": "python3"
  },
  "language_info": {
   "codemirror_mode": {
    "name": "ipython",
    "version": 3
   },
   "file_extension": ".py",
   "mimetype": "text/x-python",
   "name": "python",
   "nbconvert_exporter": "python",
   "pygments_lexer": "ipython3",
   "version": "3.5.2"
  }
 },
 "nbformat": 4,
 "nbformat_minor": 2
}
